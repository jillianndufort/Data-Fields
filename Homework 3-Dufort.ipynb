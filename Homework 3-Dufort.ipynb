{
 "cells": [
  {
   "cell_type": "code",
   "execution_count": null,
   "metadata": {},
   "outputs": [],
   "source": [
    "%%html\n",
    "<style type=\"text/css\">\n",
    "  span.ecb { background: yellow; }\n",
    "</style>"
   ]
  },
  {
   "cell_type": "markdown",
   "metadata": {},
   "source": [
    "# ATMO 5331 - Homework 3 - Fall 2021\n",
    "## Due 5 Oct, 2021\n",
    "\n",
    "When doing this homework, remember that you have two jobs:\n",
    "1. Make it work.\n",
    "2. Clean it up so that I can understand what you've done. If you think I might not understand, document it with a comment or a function docstring.\n",
    "\n",
    "You should present your work with a clear logical progression. If that seems like a hassle, remember that in doing so you are practicing skills that are expected in your thesis and journal publications.\n",
    "\n",
    "You may work alone or in pairs. I will not be adjudicating relative level of effort in group work, so you are responsible for ensuring that you and your partner contribute equally.\n",
    "\n",
    "<span class=\"ecb\">Comments by ECB</span>"
   ]
  },
  {
   "cell_type": "code",
   "execution_count": 3,
   "metadata": {},
   "outputs": [],
   "source": [
    "%matplotlib inline\n",
    "import matplotlib.pyplot as plt\n",
    "import xarray as xr\n",
    "import numpy as np\n",
    "\n",
    "from pandas.plotting import register_matplotlib_converters\n",
    "register_matplotlib_converters()"
   ]
  },
  {
   "cell_type": "markdown",
   "metadata": {},
   "source": [
    "For this assignment, download some [sample Ka data](http://www.atmo.ttu.edu/bruning/5331/Ka2140614021408.RAWPXA9.nc). These data were converted directly from the raw format collected by the radar (Sigmet) to the [NetCDF CF/Radial standard](http://ncar.github.io/CfRadial/). No further processing has been applied.\n",
    "\n",
    "In the file, the radar variables (such as reflectivity) are stored in arrays with dimension `(time, range)`. At each time, a single ray of data is collected, which extends along range. There is also a `sweep` dimension that corresponds to a few different variables. These variables mark the start and the end of each radar scan. Let's look at that structure:"
   ]
  },
  {
   "cell_type": "code",
   "execution_count": 4,
   "metadata": {},
   "outputs": [
    {
     "name": "stdout",
     "output_type": "stream",
     "text": [
      "<xarray.Dataset>\n",
      "Dimensions:                    (range: 1666, sweep: 5, time: 2938)\n",
      "Coordinates:\n",
      "  * time                       (time) datetime64[ns] 2014-06-14T02:14:19 ... ...\n",
      "  * range                      (range) float32 0.0 15.0 30.0 ... 24960.0 24975.0\n",
      "    azimuth                    (time) float32 ...\n",
      "    elevation                  (time) float32 ...\n",
      "Dimensions without coordinates: sweep\n",
      "Data variables:\n",
      "    total_power                (time, range) float32 ...\n",
      "    reflectivity               (time, range) float32 ...\n",
      "    velocity                   (time, range) float32 ...\n",
      "    spectrum_width             (time, range) float32 ...\n",
      "    normalized_coherent_power  (time, range) float32 ...\n",
      "    sweep_number               (sweep) int32 ...\n",
      "    fixed_angle                (sweep) float32 ...\n",
      "    sweep_start_ray_index      (sweep) int32 ...\n",
      "    sweep_end_ray_index        (sweep) int32 ...\n",
      "    sweep_mode                 (sweep) |S32 ...\n",
      "    unambiguous_range          (time) float32 ...\n",
      "    prt_mode                   (sweep) |S32 ...\n",
      "    prt                        (time) timedelta64[ns] ...\n",
      "    prt_ratio                  (time) float32 ...\n",
      "    nyquist_velocity           (time) float32 ...\n",
      "    radar_beam_width_h         float32 ...\n",
      "    radar_beam_width_v         float32 ...\n",
      "    pulse_width                (time) timedelta64[ns] ...\n",
      "    latitude                   float64 ...\n",
      "    longitude                  float64 ...\n",
      "    altitude                   float64 ...\n",
      "    time_coverage_start        |S32 ...\n",
      "    time_coverage_end          |S32 ...\n",
      "    time_reference             |S32 ...\n",
      "    volume_number              int32 ...\n",
      "Attributes:\n",
      "    Conventions:             CF/Radial instrument_parameters\n",
      "    version:                 1.3\n",
      "    title:                   \n",
      "    institution:             \n",
      "    references:              \n",
      "    source:                  \n",
      "    comment:                 \n",
      "    instrument_name:         TTUKa-2\n",
      "    original_container:      sigmet\n",
      "    sigmet_task_name:        TRANS_RHI   \n",
      "    sigmet_extended_header:  false\n",
      "    time_ordered:            none\n",
      "    rays_missing:            67\n",
      "    field_names:             total_power, reflectivity, velocity, spectrum_wi...\n",
      "    history:                 \n",
      "<xarray.Variable (time: 10)>\n",
      "array([-0.032955,  0.071411,  0.170288,  0.274658,  0.373535,  0.472412,\n",
      "        0.576782,  0.678406,  0.780029,  0.873413], dtype=float32)\n",
      "Attributes:\n",
      "    long_name:      elevation_angle_from_horizontal_plane\n",
      "    units:          degrees\n",
      "    standard_name:  beam_elevation_angle\n",
      "    axis:           radial_elevation_coordinate\n",
      "    comment:        Elevation of antenna relative to the horizontal plane\n",
      "<xarray.DataArray 'elevation' (time: 10)>\n",
      "array([-0.032955,  0.071411,  0.170288,  0.274658,  0.373535,  0.472412,\n",
      "        0.576782,  0.678406,  0.780029,  0.873413], dtype=float32)\n",
      "Coordinates:\n",
      "  * time       (time) datetime64[ns] 2014-06-14T02:14:19 ... 2014-06-14T02:14:19\n",
      "    azimuth    (time) float32 ...\n",
      "    elevation  (time) float32 ...\n",
      "Attributes:\n",
      "    long_name:      elevation_angle_from_horizontal_plane\n",
      "    units:          degrees\n",
      "    standard_name:  beam_elevation_angle\n",
      "    axis:           radial_elevation_coordinate\n",
      "    comment:        Elevation of antenna relative to the horizontal plane\n"
     ]
    }
   ],
   "source": [
    "# d = xr.open_dataset('../../../cfrad.20080604_002217_000_SPOL_v36_SUR.nc')\n",
    "d = xr.open_dataset('C:/Users/jdufo/Downloads/Ka2140614021408.RAWPXA9.nc')\n",
    "\n",
    "print(d)\n",
    "\n",
    "# Print the first ten elevation angles.\n",
    "print(d.variables['elevation'][0:10])\n",
    "\n",
    "# Shortcut to variable access\n",
    "print(d.elevation[0:10])"
   ]
  },
  {
   "cell_type": "code",
   "execution_count": 5,
   "metadata": {},
   "outputs": [
    {
     "name": "stdout",
     "output_type": "stream",
     "text": [
      "<xarray.DataArray 'sweep_mode' (sweep: 5)>\n",
      "array([b'rhi', b'rhi', b'rhi', b'rhi', b'rhi'], dtype='|S32')\n",
      "Dimensions without coordinates: sweep\n",
      "Attributes:\n",
      "    long_name:      Sweep mode\n",
      "    units:          unitless\n",
      "    standard_name:  sweep_mode\n",
      "    comment:        Options are: \"sector\", \"coplane\", \"rhi\", \"vertical_pointi...\n",
      "<xarray.DataArray 'sweep_start_ray_index' (sweep: 5)>\n",
      "array([   0,  590, 1176, 1766, 2352])\n",
      "Dimensions without coordinates: sweep\n",
      "Attributes:\n",
      "    long_name:  Index of first ray in sweep, 0-based\n",
      "    units:      count\n",
      "<xarray.DataArray 'sweep_end_ray_index' (sweep: 5)>\n",
      "array([ 589, 1175, 1765, 2351, 2937])\n",
      "Dimensions without coordinates: sweep\n",
      "Attributes:\n",
      "    long_name:  Index of last ray in sweep, 0-based\n",
      "    units:      count\n"
     ]
    },
    {
     "data": {
      "image/png": "[encoded data removed]",
      "text/plain": [
       "<Figure size 720x720 with 3 Axes>"
      ]
     },
     "metadata": {
      "needs_background": "light"
     },
     "output_type": "display_data"
    }
   ],
   "source": [
    "print(d.sweep_mode)\n",
    "print(d.sweep_start_ray_index)\n",
    "print(d.sweep_end_ray_index)\n",
    "\n",
    "az = d.azimuth[:]\n",
    "el = d.elevation[:]\n",
    "t = d.time[:]\n",
    "fig, axs = plt.subplots(3,1, squeeze=False, figsize=(10,10))\n",
    "\n",
    "axs[0,0].plot(t,el, '.k')\n",
    "axs[0,0].set_ylabel('Elevation angle (deg)')\n",
    "axs[0,0].set_xlabel('Time (UTC)')\n",
    "axs[1,0].plot(t,az, '.k')\n",
    "axs[1,0].set_ylabel('Azimuth angle (deg)')\n",
    "axs[1,0].set_xlabel('Time (UTC)')\n",
    "axs[2,0].plot(t, np.arange(t.shape[0]), '.k')\n",
    "axs[2,0].set_ylabel('Index along time dimension')\n",
    "axs[2,0].set_xlabel('Time (UTC)')\n",
    "for sw_start, sw_end in zip(d.sweep_start_ray_index, d.sweep_end_ray_index):\n",
    "    axs[0,0].plot(t[sw_start], el[sw_start], marker='o', color='g')\n",
    "    axs[0,0].plot(t[sw_end], el[sw_end], marker='o',color='r')\n",
    "    axs[2,0].plot(t[sw_start], sw_start, marker='o', color='g')\n",
    "    axs[2,0].plot(t[sw_end], sw_end, marker='o',color='r')"
   ]
  },
  {
   "cell_type": "markdown",
   "metadata": {},
   "source": [
    "The green dots mark the start of a sweep according to `sweep_start_ray_index`, and red marks the end according to `sweep_end_ray_index`. We observe that:\n",
    "\n",
    "0. the scans are in [RHI](http://ww2010.atmos.uiuc.edu/(Gh)/guides/rs/rad/basics/cnmod.rxml) mode, per the scan_mode variable.\n",
    "1. the data have time precision of 1 s\n",
    "2. the data are not stored in time order.\n",
    "3. the data are stored in the file in order of increasing elevation angle, not increasing time.\n",
    "4. azimuth angle is constant."
   ]
  },
  {
   "cell_type": "markdown",
   "metadata": {},
   "source": [
    "For the rest of this assignment, let's work with the second of the five scans, where time and elevation both increase with index along the time dimension. Reuse this variable instead of hard-coding a scan number in later code."
   ]
  },
  {
   "cell_type": "code",
   "execution_count": 6,
   "metadata": {},
   "outputs": [],
   "source": [
    "scan_idx = 1"
   ]
  },
  {
   "cell_type": "markdown",
   "metadata": {},
   "source": [
    "**1.** Let's start by preparing the coordinates needed to plot a scan. Write a function that takes a radar dataset and scan index, and returns  D arrays of ranges, azimuths, and elevations that correspond to the edges of each radar sample (a.k.a., each gate). Your function should return three separate 2d variables, as you see in the sample function call below. I found it helpful to visualize how the coordinates were distributed in 2D a quick, unlableled plot of each coordinate: `plt.imshow(r)`."
   ]
  },
  {
   "cell_type": "code",
   "execution_count": 7,
   "metadata": {},
   "outputs": [],
   "source": [
    "def spherical_coords(data, scan):\n",
    "    idx_start = data.sweep_start_ray_index[scan].values\n",
    "    idx_end = data.sweep_end_ray_index[scan].values\n",
    "    \n",
    "    r_1d = np.array(data.range)\n",
    "    az_1d = np.array(data.azimuth[idx_start:idx_end+1])\n",
    "    el_1d = np.array(data.elevation[idx_start:idx_end+1])\n",
    "    \n",
    "    return r_1d, az_1d, el_1d\n",
    "\n",
    "r, az, el = spherical_coords(d, scan_idx)\n",
    "# print(r.shape)\n",
    "# print(az.shape)\n",
    "# print(el.shape)\n",
    "\n",
    "def coords_2d(data, scan):\n",
    "    range, azimuth, elevation = spherical_coords(data, scan)\n",
    "    \n",
    "    r_2d, az_2d = np.meshgrid(range, azimuth)\n",
    "    el_2d = np.full_like(az_2d, el[0])\n",
    "    \n",
    "    return r_2d, az_2d, el_2d\n",
    "\n",
    "range_2d, azimuth_2d, elevation_2d = coords_2d(d, scan_idx)\n",
    "\n",
    "# print(range_2d.shape)\n",
    "# print(azimuth_2d.shape)\n",
    "# print(elevation_2d.shape)"
   ]
  },
  {
   "cell_type": "markdown",
   "metadata": {},
   "source": [
    "**2.** Make a 4-panel plot of reflectivity, velocity, spectrum width, and normalized coherent power. Use `coordinateSystems.RadarCoordinateSystem` to plot in altitude above vs. range along a tangent plane. The tangent plane should be centered at the location of radar.\n",
    "\n",
    "Note that if you find that the coordinate transformations fail to preserve the shape of your input coordinate arrays, you can fix it with `X.shape = r.shape`, where `X` has been transformed from `r`."
   ]
  },
  {
   "cell_type": "code",
   "execution_count": 11,
   "metadata": {},
   "outputs": [
    {
     "name": "stdout",
     "output_type": "stream",
     "text": [
      "(976276,)\n",
      "(976276,)\n",
      "(976276,)\n"
     ]
    },
    {
     "ename": "ValueError",
     "evalue": "cannot reshape array of size 976276 into shape (1666,)",
     "output_type": "error",
     "traceback": [
      "\u001b[1;31m---------------------------------------------------------------------------\u001b[0m",
      "\u001b[1;31mValueError\u001b[0m                                Traceback (most recent call last)",
      "\u001b[1;32m<ipython-input-11-f9e76e0c0658>\u001b[0m in \u001b[0;36m<module>\u001b[1;34m\u001b[0m\n\u001b[0;32m     20\u001b[0m \u001b[0mnorm_co_power\u001b[0m \u001b[1;33m=\u001b[0m \u001b[0mnp\u001b[0m\u001b[1;33m.\u001b[0m\u001b[0marray\u001b[0m\u001b[1;33m(\u001b[0m\u001b[0md\u001b[0m\u001b[1;33m.\u001b[0m\u001b[0mnormalized_coherent_power\u001b[0m\u001b[1;33m[\u001b[0m\u001b[0midx_start_plot\u001b[0m\u001b[1;33m:\u001b[0m\u001b[0midx_end_plot\u001b[0m\u001b[1;33m+\u001b[0m\u001b[1;36m1\u001b[0m\u001b[1;33m]\u001b[0m\u001b[1;33m)\u001b[0m\u001b[1;33m\u001b[0m\u001b[1;33m\u001b[0m\u001b[0m\n\u001b[0;32m     21\u001b[0m \u001b[1;33m\u001b[0m\u001b[0m\n\u001b[1;32m---> 22\u001b[1;33m \u001b[0mX1\u001b[0m\u001b[1;33m.\u001b[0m\u001b[0mshape\u001b[0m \u001b[1;33m=\u001b[0m \u001b[0mr\u001b[0m\u001b[1;33m.\u001b[0m\u001b[0mshape\u001b[0m\u001b[1;33m\u001b[0m\u001b[1;33m\u001b[0m\u001b[0m\n\u001b[0m\u001b[0;32m     23\u001b[0m \u001b[0mY1\u001b[0m\u001b[1;33m.\u001b[0m\u001b[0mshape\u001b[0m \u001b[1;33m=\u001b[0m \u001b[0maz\u001b[0m\u001b[1;33m.\u001b[0m\u001b[0mshape\u001b[0m\u001b[1;33m\u001b[0m\u001b[1;33m\u001b[0m\u001b[0m\n\u001b[0;32m     24\u001b[0m \u001b[0mZ1\u001b[0m\u001b[1;33m.\u001b[0m\u001b[0mshape\u001b[0m \u001b[1;33m=\u001b[0m \u001b[0mel\u001b[0m\u001b[1;33m.\u001b[0m\u001b[0mshape\u001b[0m\u001b[1;33m\u001b[0m\u001b[1;33m\u001b[0m\u001b[0m\n",
      "\u001b[1;31mValueError\u001b[0m: cannot reshape array of size 976276 into shape (1666,)"
     ]
    }
   ],
   "source": [
    "from coordinateSystems import TangentPlaneCartesianSystem\n",
    "from coordinateSystems import RadarCoordinateSystem\n",
    "\n",
    "radar = RadarCoordinateSystem(d.latitude, d.longitude, d.altitude)\n",
    "X, Y, Z = radar.toECEF(range_2d, azimuth_2d, elevation_2d)\n",
    "\n",
    "tan = TangentPlaneCartesianSystem(d.latitude, d.longitude, d.altitude)\n",
    "X1, Y1, Z1 = tan.fromECEF(X, Y, Z)\n",
    "\n",
    "print(X1.shape)\n",
    "print(Y1.shape)\n",
    "print(Z1.shape)\n",
    "\n",
    "idx_start_plot = d.sweep_start_ray_index[scan_idx].values\n",
    "idx_end_plot = d.sweep_end_ray_index[scan_idx].values\n",
    "\n",
    "reflect = np.array(d.reflectivity[idx_start_plot:idx_end_plot+1])\n",
    "velocity = np.array(d.velocity[idx_start_plot:idx_end_plot+1])\n",
    "spec_wid = np.array(d.spectrum_width[idx_start_plot:idx_end_plot+1])\n",
    "norm_co_power = np.array(d.normalized_coherent_power[idx_start_plot:idx_end_plot+1])\n",
    "\n",
    "X1.shape = r.shape\n",
    "Y1.shape = az.shape\n",
    "Z1.shape = el.shape\n",
    "\n",
    "fig, axs = plt.subplots(2,2, squeeze=False, figsize=(10,10))\n",
    "\n",
    "im1 = xs[0,0].pcolormesh(X1, Z1, reflect)\n",
    "axs[0,0].set_ylabel('Elevation angle (deg)')\n",
    "axs[0,0].set_xlabel('Time (UTC)')\n",
    "plt.colorbar(im1)\n",
    "                   \n",
    "im2 = axs[0,1].pcolormesh(X1, Z1, velocity)\n",
    "axs[0,1].set_ylabel('Azimuth angle (deg)')\n",
    "axs[0,1].set_xlabel('Time (UTC)')\n",
    "plt.colorbar(im2, )\n",
    "\n",
    "im3 = axs[1,0].pcolormesh(X1, Z1, spec_wid)\n",
    "axs[1,0].set_ylabel('Index along time dimension')\n",
    "axs[1,0].set_xlabel('Time (UTC)')\n",
    "plt.colorbar(im3)  \n",
    "\n",
    "im4 = axs[1,1].plot(X1, Z1, norm_co_power)\n",
    "axs[1,1].set_ylabel('Index along time dimension')\n",
    "axs[1,1].set_xlabel('Time (UTC)')\n",
    "plt.colorbar(im4)"
   ]
  },
  {
   "cell_type": "markdown",
   "metadata": {},
   "source": [
    "**3.** Repeat the plot for question 2, but for an aziuthal equidistant map projection centered at the radar location."
   ]
  },
  {
   "cell_type": "code",
   "execution_count": null,
   "metadata": {},
   "outputs": [],
   "source": [
    "# Where is the radar? What is its gate spacing?\n",
    "print(d.latitude)\n",
    "print(d.longitude)\n",
    "print(d.range[1]-d.range[0])"
   ]
  },
  {
   "cell_type": "markdown",
   "metadata": {},
   "source": [
    "To set the stage for the next two assignments, let's say we want to oversample the 15 m range gates to a 5 m carteisian grid in the domain 9.0…9.5 km range and 2.9…3.4 km altitude. Once again, we will use the distance above and the range along the tangent plane.\n",
    "\n",
    "**4.** Create 2D arrays giving the corresponding center locations for each desired analysis location. Start with 1D grid box edges spanning the range above."
   ]
  },
  {
   "cell_type": "markdown",
   "metadata": {},
   "source": [
    "**5.** For the next question, we will interpolate in three ways:\n",
    "- nearest neighbor\n",
    "- linear\n",
    "- the traditional meteorological \"Barnes\" analysis (which is really a Gaussian blur fliter). \n",
    "\n",
    "To do so, we will use MetPy's built-in interpolators. It wraps SciPy's built-in nearest and linear interpolation methods, and adds Barnes, natural neighbor, and other interpolators. \n",
    "\n",
    "You will probably need to install metpy with `conda install -c conda-forge metpy`.\n",
    "\n",
    "Once you have installed MetPy, use its `interpolate_to_points` function. Note that it takes three arguments, and those arguments require that you use `np.vstack` to rearrange the locations and data into the correct shape.\n",
    "\n",
    "So that the Barnes analysis doesn't take forever, you will want to subset the data to only those locations that overlap with the analysis grid."
   ]
  },
  {
   "cell_type": "code",
   "execution_count": null,
   "metadata": {},
   "outputs": [],
   "source": [
    "# from scipy.interpolate import LinearNDInterpolator, NearestNDInterpolator, griddata\n",
    "# from metpy.units import units\n",
    "from metpy.interpolate import interpolate_to_points\n",
    "interpolate_to_points?"
   ]
  },
  {
   "cell_type": "markdown",
   "metadata": {},
   "source": [
    "**6.** Make a plot of the original data and the three interpolation methods. Compared to the original data, what do the three interpolation methods do to the data? Think about what you would regard as desirable properties of an analysis."
   ]
  },
  {
   "cell_type": "code",
   "execution_count": null,
   "metadata": {},
   "outputs": [],
   "source": []
  }
 ],
 "metadata": {
  "kernelspec": {
   "display_name": "Python 3",
   "language": "python",
   "name": "python3"
  },
  "language_info": {
   "codemirror_mode": {
    "name": "ipython",
    "version": 3
   },
   "file_extension": ".py",
   "mimetype": "text/x-python",
   "name": "python",
   "nbconvert_exporter": "python",
   "pygments_lexer": "ipython3",
   "version": "3.8.5"
  }
 },
 "nbformat": 4,
 "nbformat_minor": 4
}
